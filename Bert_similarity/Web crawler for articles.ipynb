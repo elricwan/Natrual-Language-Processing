{
 "cells": [
  {
   "cell_type": "code",
   "execution_count": 1,
   "metadata": {},
   "outputs": [],
   "source": [
    "import requests\n",
    "import time\n",
    "from urllib.request import urlopen\n",
    "from bs4 import BeautifulSoup"
   ]
  },
  {
   "cell_type": "code",
   "execution_count": 2,
   "metadata": {},
   "outputs": [
    {
     "name": "stderr",
     "output_type": "stream",
     "text": [
      "[nltk_data] Downloading package punkt to\n",
      "[nltk_data]     C:\\Users\\wxp\\AppData\\Roaming\\nltk_data...\n",
      "[nltk_data]   Unzipping tokenizers\\punkt.zip.\n"
     ]
    },
    {
     "data": {
      "text/plain": [
       "True"
      ]
     },
     "execution_count": 2,
     "metadata": {},
     "output_type": "execute_result"
    }
   ],
   "source": [
    "import nltk\n",
    "nltk.download('punkt')\n",
    "nltk.download('averaged_perceptron_tagger')\n",
    "nltk.download('wordnet_ic')"
   ]
  },
  {
   "cell_type": "code",
   "execution_count": 3,
   "metadata": {},
   "outputs": [
    {
     "data": {
      "text/plain": [
       "'3.4.4'"
      ]
     },
     "execution_count": 3,
     "metadata": {},
     "output_type": "execute_result"
    }
   ],
   "source": [
    "nltk.__version__"
   ]
  },
  {
   "cell_type": "code",
   "execution_count": 163,
   "metadata": {},
   "outputs": [],
   "source": [
    "url = \"http://sitesearch.asahi.com/ajwsitesearch/index.php?Keywords=Hong%20Kong&start=0\"\n",
    "response = requests.get(url)\n",
    "soup = BeautifulSoup(response.text, 'html.parser')"
   ]
  },
  {
   "cell_type": "code",
   "execution_count": 122,
   "metadata": {},
   "outputs": [
    {
     "data": {
      "text/plain": [
       "[<span class=\"SearchResult_Headline\"><em>In leaderless <strong>Hong</strong> <strong>Kong</strong> movement, Joshua Wong just 1 voice</em><span class=\"EnDate\">September 17, 2019</span></span>,\n",
       " <span class=\"SearchResult_Headline\"><em>Amid protests, Moody’s downgrades <strong>Hong</strong> <strong>Kong</strong> to ‘negative’</em><span class=\"EnDate\">September 17, 2019</span></span>,\n",
       " <span class=\"SearchResult_Headline\"><em>Taiwan: China meddling with elections after Solomon Islands cuts ties</em><span class=\"EnDate\">September 17, 2019</span></span>,\n",
       " <span class=\"SearchResult_Headline\"><em>Hospital staff rally for protest campaign after new violence</em><span class=\"EnDate\">September 17, 2019</span></span>,\n",
       " <span class=\"SearchResult_Headline\"><em><strong>Hong</strong> <strong>Kong</strong> reopens after weekend of clashes, protests</em><span class=\"EnDate\">September 16, 2019</span></span>,\n",
       " <span class=\"SearchResult_Headline\"><em>Oil prices leap as attack on Saudi facility disrupts output</em><span class=\"EnDate\">September 16, 2019</span></span>,\n",
       " <span class=\"SearchResult_Headline\"><em>Violence flares after <strong>Hong</strong> <strong>Kong</strong> protesters defy police ban</em><span class=\"EnDate\">September 16, 2019</span></span>,\n",
       " <span class=\"SearchResult_Headline\"><em>Protesters defy ban to march in downtown <strong>Hong</strong> <strong>Kong</strong></em><span class=\"EnDate\">September 15, 2019</span></span>,\n",
       " <span class=\"SearchResult_Headline\"><em><strong>Hong</strong> <strong>Kong</strong> police break up clashes between rival protesters</em><span class=\"EnDate\">September 14, 2019</span></span>,\n",
       " <span class=\"SearchResult_Headline\"><em>Lantern-waving <strong>Hong</strong> <strong>Kong</strong> protesters take to hills</em><span class=\"EnDate\">September 14, 2019</span></span>]"
      ]
     },
     "execution_count": 122,
     "metadata": {},
     "output_type": "execute_result"
    }
   ],
   "source": [
    "soup.findAll('span',{'class':'SearchResult_Headline'})"
   ]
  },
  {
   "cell_type": "code",
   "execution_count": 167,
   "metadata": {},
   "outputs": [
    {
     "data": {
      "text/plain": [
       "'http://www.asahi.com/ajw/articles/AJ201909140014.html'"
      ]
     },
     "execution_count": 167,
     "metadata": {},
     "output_type": "execute_result"
    }
   ],
   "source": [
    "a = soup.findAll('ul',{'id':'SiteSearchResult'})[0]\n",
    "a.findAll('a')[9]['href']"
   ]
  },
  {
   "cell_type": "code",
   "execution_count": 168,
   "metadata": {},
   "outputs": [],
   "source": [
    "url = 'http://www.asahi.com/ajw/articles/AJ201909170026.html'\n",
    "response = requests.get(url)\n",
    "soup = BeautifulSoup(response.text, 'html.parser')"
   ]
  },
  {
   "cell_type": "code",
   "execution_count": 158,
   "metadata": {},
   "outputs": [
    {
     "data": {
      "text/plain": [
       "'THE ASSOCIATED PRESS'"
      ]
     },
     "execution_count": 158,
     "metadata": {},
     "output_type": "execute_result"
    }
   ],
   "source": [
    "soup.findAll('p',{'class':'EnArticleName'})[0].contents[0]"
   ]
  },
  {
   "cell_type": "code",
   "execution_count": 159,
   "metadata": {},
   "outputs": [
    {
     "data": {
      "text/plain": [
       "'September 17, 2019 at 12:35 JST'"
      ]
     },
     "execution_count": 159,
     "metadata": {},
     "output_type": "execute_result"
    }
   ],
   "source": [
    "soup.findAll('p',{'class':'EnLastUpdated'})[0].contents[0]"
   ]
  },
  {
   "cell_type": "code",
   "execution_count": 160,
   "metadata": {},
   "outputs": [
    {
     "data": {
      "text/plain": [
       "['September', '17,', '2019', 'at', '12:35', 'JST']"
      ]
     },
     "execution_count": 160,
     "metadata": {},
     "output_type": "execute_result"
    }
   ],
   "source": [
    "soup.findAll('p',{'class':'EnLastUpdated'})[0].contents[0].split()"
   ]
  },
  {
   "cell_type": "code",
   "execution_count": 172,
   "metadata": {},
   "outputs": [
    {
     "data": {
      "text/plain": [
       "24"
      ]
     },
     "execution_count": 172,
     "metadata": {},
     "output_type": "execute_result"
    }
   ],
   "source": [
    "len(soup.findAll('div',{'class':'ArticleText'})[0].findAll('p'))"
   ]
  },
  {
   "cell_type": "code",
   "execution_count": 169,
   "metadata": {},
   "outputs": [
    {
     "data": {
      "text/plain": [
       "'The 22-year-old activist, who rose to fame as a leader of democracy protests five years ago, speaks to a U.S. congressional committee on Tuesday, following visits to Germany and Taiwan to drum up support for the movement.'"
      ]
     },
     "execution_count": 169,
     "metadata": {},
     "output_type": "execute_result"
    }
   ],
   "source": [
    "soup.findAll('div',{'class':'ArticleText'})[0].findAll('p')[1].contents[0]"
   ]
  },
  {
   "cell_type": "code",
   "execution_count": 171,
   "metadata": {},
   "outputs": [
    {
     "data": {
      "text/plain": [
       "\"HONG KONG--Overseas, Joshua Wong has emerged as a prominent face of Hong Kong's months-long protests for full democracy. At home, he is just another protester.\""
      ]
     },
     "execution_count": 171,
     "metadata": {},
     "output_type": "execute_result"
    }
   ],
   "source": [
    "soup.findAll('div',{'class':'ArticleText'})[0].findAll('p')[0].contents[0]"
   ]
  },
  {
   "cell_type": "code",
   "execution_count": 153,
   "metadata": {},
   "outputs": [],
   "source": [
    "a = soup.findAll('div',{'class':'ArticleText'})[0].findAll('p')[1].contents[0]"
   ]
  },
  {
   "cell_type": "code",
   "execution_count": 161,
   "metadata": {},
   "outputs": [
    {
     "data": {
      "text/plain": [
       "'http://sitesearch.asahi.com/ajwsitesearch/index.php?Keywords=Hong%20Kong&start=10'"
      ]
     },
     "execution_count": 161,
     "metadata": {},
     "output_type": "execute_result"
    }
   ],
   "source": [
    "\"http://sitesearch.asahi.com/ajwsitesearch/index.php?Keywords=Hong%20Kong&start=\"+str(10)"
   ]
  },
  {
   "cell_type": "code",
   "execution_count": 238,
   "metadata": {},
   "outputs": [],
   "source": [
    "import json\n",
    "Japan = {}\n",
    "for i in range(40):\n",
    "    # get into the search page\n",
    "    idx = 10*i\n",
    "    url = \"http://sitesearch.asahi.com/ajwsitesearch/index.php?Keywords=Hong%20Kong&start=\"+str(idx)\n",
    "    response = requests.get(url)\n",
    "    soup = BeautifulSoup(response.text, 'html.parser')\n",
    "    a = soup.findAll('ul',{'id':'SiteSearchResult'})[0]\n",
    "    # get the info for the article link, 10 articles for each page\n",
    "    for j in range(10):\n",
    "        uu = a.findAll('a')[j]['href']\n",
    "        response = requests.get(uu)\n",
    "        ss = BeautifulSoup(response.text, 'html.parser')\n",
    "        try:\n",
    "            author = ss.findAll('p',{'class':'EnArticleName'})[0].contents[0]\n",
    "        except:\n",
    "            author = 'editor'\n",
    "        title = ss.findAll('h1')[0].contents[0]\n",
    "        try:\n",
    "            time = ss.findAll('p',{'class':'EnLastUpdated'})[0].contents[0].split()\n",
    "        except:\n",
    "            time = 'unknown'\n",
    "        body = ss.findAll('div',{'class':'ArticleText'})[0].findAll('p')\n",
    "        # remove special character in the body\n",
    "        article = ''\n",
    "        for k in range(len(body)):\n",
    "            if len(body[k].contents)>0:\n",
    "                if isinstance(body[k].contents[0], str):\n",
    "                    article = article + body[k].contents[0]\n",
    "            \n",
    "        # save to json file\n",
    "        key = title + ',' + author + ',' + time[0] + ',' + time[1] + time[2]\n",
    "        Japan[key] = article"
   ]
  },
  {
   "cell_type": "code",
   "execution_count": 243,
   "metadata": {},
   "outputs": [],
   "source": [
    "# save as json\n",
    "with open('Japan.json', 'w') as outfile:\n",
    "    json.dump(Japan, outfile)"
   ]
  },
  {
   "cell_type": "code",
   "execution_count": 3,
   "metadata": {},
   "outputs": [],
   "source": [
    "# load json\n",
    "import json\n",
    "with open('Japan.json', 'r') as outfile:\n",
    "        Japan = json.load(outfile)"
   ]
  },
  {
   "cell_type": "code",
   "execution_count": 4,
   "metadata": {},
   "outputs": [
    {
     "data": {
      "text/plain": [
       "['In leaderless Hong Kong movement, Joshua Wong just 1 voice,THE ASSOCIATED PRESS,September,17,2019',\n",
       " 'Amid protests, Moodyâ\\x80\\x99s downgrades Hong Kong to â\\x80\\x98negativeâ\\x80\\x99,REUTERS,September,17,2019',\n",
       " 'Taiwan: China meddling with elections after Solomon Islands cuts ties,REUTERS,September,17,2019',\n",
       " 'Hospital staff rally for protest campaign after new violence,THE ASSOCIATED PRESS,September,17,2019',\n",
       " 'Hong Kong reopens after weekend of clashes, protests,REUTERS,September,16,2019',\n",
       " 'Oil prices leap as attack on Saudi facility disrupts output,THE ASSOCIATED PRESS,September,16,2019',\n",
       " 'Violence flares after Hong Kong protesters defy police ban,THE ASSOCIATED PRESS,September,16,2019',\n",
       " 'Protesters defy ban to march in downtown Hong Kong,THE ASSOCIATED PRESS,September,15,2019',\n",
       " 'Hong Kong police break up clashes between rival protesters,REUTERS,September,14,2019',\n",
       " 'Lantern-waving Hong Kong protesters take to hills,REUTERS,September,14,2019',\n",
       " 'London Stock Exchange rejects Hong Kong takeover bid,THE ASSOCIATED PRESS,September,14,2019',\n",
       " 'China prods state firms to up investment in HK, sources say,REUTERS,September,13,2019',\n",
       " 'Lam to prioritize housing, jobs to appease HK protesters,REUTERS,September,13,2019',\n",
       " 'As unrest deepens, Hong Kongers eye exit strategies,REUTERS,September,13,2019',\n",
       " 'Belting out karaoke new protest method in Hong Kong,THE ASSOCIATED PRESS,September,12,2019',\n",
       " 'Mid-Autumn Festival lantern protests to light up Hong Kong,REUTERS,September,12,2019',\n",
       " 'Hong Kong stock exchange swoops in for London rival,THE ASSOCIATED PRESS,September,12,2019',\n",
       " 'Hong Kong stock exchange in talks to buy London bourse,THE ASSOCIATED PRESS,September,11,2019',\n",
       " 'Hong Kong protesters hit pause to mark Sept. 11 attacks,REUTERS,September,11,2019',\n",
       " 'Hong Kong soccer fans loudly boo Chinese national anthem,THE ASSOCIATED PRESS,September,11,2019',\n",
       " 'Trump adviser plays down expectations for U.S.-China talks,REUTERS,September,11,2019',\n",
       " 'SOCCER/ Japan defeats Myanmar 2-0 in World Cup qualifier,THE ASSOCIATED PRESS,September,11,2019',\n",
       " 'Alibaba founder Ma steps down as industry faces uncertainty,THE ASSOCIATED PRESS,September,10,2019',\n",
       " 'Lam: Escalation of violence will not solve HK social issues,REUTERS,September,10,2019',\n",
       " 'My town is the new Cold Warâ\\x80\\x99s Berlin--HK activist Wong,REUTERS,September,10,2019',\n",
       " 'HK schoolkids form human chain after weekend of protests,REUTERS,September,9,2019',\n",
       " 'Marchers ask Trump to â\\x80\\x98liberateâ\\x80\\x99 Hong Kong, as clashes erupt,THE ASSOCIATED PRESS,September,9,2019',\n",
       " 'Hong Kong protesters to take their democracy message to U.S. Consulate,REUTERS,September,8,2019',\n",
       " 'Hong Kong police stave off airport protest after night of violence,REUTERS,September,7,2019',\n",
       " 'Germanyâ\\x80\\x99s Merkel says Hong Kongâ\\x80\\x99s rights should be protected,THE ASSOCIATED PRESS,September,6,2019',\n",
       " 'Hong Kong students form human chains in continuing protests,THE ASSOCIATED PRESS,September,6,2019',\n",
       " 'EDITORIAL: Hong Kong leaderâ\\x80\\x99s belated move will not end publicâ\\x80\\x99s distrust,editor,September,6,2019',\n",
       " 'Hong Kong braces for weekend protests as leader fails to appease activists,REUTERS,September,6,2019',\n",
       " 'Hong Kong leader says bill withdrawal own decision, not Beijingâ\\x80\\x99s,THE ASSOCIATED PRESS,September,6,2019',\n",
       " 'Lam says extradition bill will end without debate or vote,THE ASSOCIATED PRESS,September,5,2019',\n",
       " 'Cathay Pacific chairman steps down amid HK protests,THE ASSOCIATED PRESS,September,5,2019',\n",
       " 'Asian shares up as Brexit, Hong Kong progress lifts mood,REUTERS,September,5,2019',\n",
       " 'Hong Kong leader pulls extradition bill, but too little too late, say some,REUTERS,September,5,2019',\n",
       " 'Hong Kong leader announces withdrawal of extradition bill,REUTERS,September,4,2019',\n",
       " 'Hong Kong police fire beanbag rounds in overnight clashes,REUTERS,September,4,2019',\n",
       " 'Hong Kong leader says never offered resignation to Beijing,REUTERS,September,3,2019',\n",
       " 'Students in Hong Kong skip classes on 1st day back to join the protests,THE ASAHI SHIMBUN,September,3,2019',\n",
       " 'Zara seeks to distance brand from HK protest controversy,REUTERS,September,3,2019',\n",
       " 'Hong Kong students plan 2nd day of pro-democracy rallies,REUTERS,September,3,2019',\n",
       " \"Hong Kong leader says she would 'quit' if she could, fears her ability to resolve crisis now 'very limited',REUTERS,September,3,2019\",\n",
       " 'Hong Kong students plan to strike as trains disrupted,THE ASSOCIATED PRESS,September,2,2019',\n",
       " 'EDITORIAL: Japan should work toward closing domestic ivory market,editor,September,2,2019',\n",
       " 'Yen rises, yuan pares losses as Sino-U.S. tariffs kick in,REUTERS,September,2,2019',\n",
       " 'Hong Kong protesters disrupt airport but planes still taking off,REUTERS,September,1,2019',\n",
       " 'Hong Kong police storm subway with batons as protests rage,THE ASSOCIATED PRESS,September,1,2019',\n",
       " 'U.S. imposes sanctions on people, firms it says helped N. Korea evade sanctions,REUTERS,September,1,2019',\n",
       " 'Be like water: Hong Kong protesters meander on the march,REUTERS,August,31,2019',\n",
       " 'Taiwan demands China disclose whereabouts of missing citizen,THE ASSOCIATED PRESS,August,31,2019',\n",
       " 'Hong Kong activists freed on bail, protest march banned,THE ASSOCIATED PRESS,August,31,2019',\n",
       " 'HK activist Joshua Wong arrested in crackdown on protests,REUTERS,August,30,2019',\n",
       " 'Yen backpedals on hopes of easing U.S.-China trade tensions,REUTERS,August,30,2019',\n",
       " 'China rotates HK troops as protesters call for democracy,REUTERS,August,29,2019',\n",
       " 'Hong Kong protesters denounce Cathay Pacific for firing cabin crew,REUTERS,August,29,2019',\n",
       " 'China denies Qingdao port visit for U.S. warship amid tension,REUTERS,August,28,2019',\n",
       " 'HK protesters aim their anger at Cathay Pacific â\\x80\\x98white terrorâ\\x80\\x99,REUTERS,August,28,2019',\n",
       " 'Hong Kong leader starts talks but not budging on demands,THE ASSOCIATED PRESS,August,27,2019',\n",
       " 'Hong Kongâ\\x80\\x99s Lam says escalation of violence growing worse,REUTERS,August,27,2019',\n",
       " 'Asian shares mostly up on optimism about U.S.-China trade,THE ASSOCIATED PRESS,August,27,2019',\n",
       " 'Police defend warning shot as Hong Kong divide widens,THE ASSOCIATED PRESS,August,27,2019',\n",
       " '生きた英語も、ニュースも\\u3000「Ａｓａｈｉ\\u3000Ｗｅｅｋｌｙ」,editor,u,nk',\n",
       " 'World shares tumble as U.S.-China trade war renews uncertainty,THE ASSOCIATED PRESS,August,26,2019',\n",
       " 'China lets currency sink to 11-year low after Trump threats,THE ASSOCIATED PRESS,August,26,2019',\n",
       " 'Extinction bites: Countries agree to protect sharks and rays,THE ASSOCIATED PRESS,August,26,2019',\n",
       " 'Hong Kong police draw guns, arrest 36 after latest protest,THE ASSOCIATED PRESS,August,26,2019',\n",
       " 'Hong Kong protesters regroup under sea of umbrellas,REUTERS,August,25,2019',\n",
       " 'Chinese casino hub Macaoâ\\x80\\x99s elite choose new leader,THE ASSOCIATED PRESS,August,25,2019',\n",
       " 'Hong Kong police arrest 29 after overnight clashes, more protests planned,REUTERS,August,25,2019',\n",
       " 'Thousands march in Hong Kong as police in black masks look on,REUTERS,August,24,2019',\n",
       " 'Chinese police free detained U.K. consulate staffer,THE ASSOCIATED PRESS,August,24,2019',\n",
       " 'Hong Kong protesters form human chains to call for democracy,THE ASSOCIATED PRESS,August,24,2019',\n",
       " 'YouTube finds influence campaign tied to Hong Kong protest,REUTERS,August,23,2019',\n",
       " 'Hong Kong unions urge Cathay Pacific to end â\\x80\\x98white terrorâ\\x80\\x99,REUTERS,August,23,2019',\n",
       " 'Mixed reaction as Yokohama bets on hosting casino resort,THE ASAHI SHIMBUN,August,23,2019',\n",
       " 'Canada Consulate suspends China travel for Hong Kong staff,REUTERS,August,23,2019',\n",
       " 'VOX POPULI: Hong Kong demo soon to exceed duration of umbrella revolt,Vox Populi, Vox Dei is a daily column that runs on Page 1 of The Asahi Shimbun.,August,23,2019',\n",
       " 'Hong Kong girds for fresh protests as activists target airport,REUTERS,August,23,2019',\n",
       " 'Britainâ\\x80\\x99s HK mission employee held in China over prostitution,REUTERS,August,23,2019',\n",
       " 'China uses global social media to decry Hong Kong protests,REUTERS,August,22,2019',\n",
       " 'Hong Kong police in standoff with protesters after sit-in,THE ASSOCIATED PRESS,August,22,2019',\n",
       " 'Hong Kong banks condemn violence, urge return to â\\x80\\x98harmonyâ\\x80\\x99,REUTERS,August,22,2019',\n",
       " 'Ex-â\\x80\\x98Amachanâ\\x80\\x99 starâ\\x80\\x99s agent rails against abuse in talent industry,THE ASAHI SHIMBUN,August,21,2019',\n",
       " 'China says it detained worker of British consulate in Hong Kong,REUTERS,August,21,2019',\n",
       " 'Rust-belt China looks abroad as economy slows, tariffs bite,THE ASSOCIATED PRESS,August,21,2019',\n",
       " 'Gambling hub Macau set to elect Beijing-backed leader,REUTERS,August,21,2019',\n",
       " 'Britain upset by reports HK consulate worker held in China,REUTERS,August,21,2019',\n",
       " 'â\\x80\\x98You prepare for warâ\\x80\\x99: How a U.S. firm tried escaping Trumpâ\\x80\\x99s tariffs,REUTERS,August,21,2019',\n",
       " 'Huawei expects no relief from US sanctions but is confident,THE ASSOCIATED PRESS,August,20,2019',\n",
       " 'Die-hard Hong Kong protesters defend tactics as unity cracks,THE ASSOCIATED PRESS,August,20,2019',\n",
       " 'Hong Kong leader sees â\\x80\\x98way outâ\\x80\\x99 of chaos through dialogue,REUTERS,August,20,2019',\n",
       " 'Twitter shuts Chinese accounts targeting Hong Kong protests,THE ASSOCIATED PRESS,August,20,2019',\n",
       " 'China lashes out at Taiwan over Hong Kong political asylum offer,THE ASSOCIATED PRESS,August,20,2019',\n",
       " 'Asian shares climb on stimulus hopes as recession fears ease,REUTERS,August,20,2019',\n",
       " 'Chinese K-pop stars publicly back Beijing on Hong Kong,THE ASSOCIATED PRESS,August,19,2019',\n",
       " 'China lashes out at Taiwan over Hong Kong political asylum offer,THE ASSOCIATED PRESS,August,19,2019',\n",
       " 'Chinaâ\\x80\\x99s State Council calls for Shenzhen integration with Hong Kong, Macau,REUTERS,August,19,2019',\n",
       " 'Chinese embassy tells Canada to stop meddling in Hong Kong affairs,REUTERS,August,19,2019',\n",
       " 'Hundreds of thousands turn out for peaceful Hong Kong protest,THE ASSOCIATED PRESS,August,19,2019',\n",
       " 'Tens of thousands flood Hong Kong park for latest rally,THE ASSOCIATED PRESS,August,18,2019',\n",
       " 'China condemns U.S. lawmakersâ\\x80\\x99 support for Hong Kong protests,THE ASSOCIATED PRESS,August,18,2019',\n",
       " 'Hong Kongers rally against government under stormy skies,REUTERS,August,18,2019',\n",
       " 'Hong Kong teachersâ\\x80\\x99 rally starts another weekend of protests,THE ASSOCIATED PRESS,August,17,2019',\n",
       " 'Alibaba and the $15 bln question: Amid Hong Kongâ\\x80\\x99s protests, when to list?,REUTERS,August,17,2019',\n",
       " 'U.S. tells Congress of plans to sell F-16 fighters to Taiwan,THE ASSOCIATED PRESS,August,17,2019',\n",
       " 'Billionaire Kuok grants rare interview on the horrors of war,By MAYUMI MORI/ Correspondent,August,16,2019',\n",
       " \"French 'spiderman' climbs Hong Kong tower, hoists reconciliation flag amid mass protests,REUTERS,August,16,2019\",\n",
       " 'Amazon faces online backlash in China for T-shirts with Hong Kong democracy slogans,REUTERS,August,16,2019',\n",
       " \"Trump says China talks 'productive'; Beijing vows tariff retaliation,REUTERS,August,16,2019\",\n",
       " 'Japan surpasses China as largest non-U.S. holder of Treasuries --data,REUTERS,August,16,2019',\n",
       " \"Trump's stance on Hong Kong shows his focus on China trade,THE ASSOCIATED PRESS,August,16,2019\",\n",
       " 'U.S. says Taiwan defense spending to rise with China threat,THE ASSOCIATED PRESS,August,15,2019',\n",
       " 'Chinese paramilitary forces exercise near Hong Kong,REUTERS,August,15,2019',\n",
       " '2014 Hong Kong Umbrella Movement leader released on bail,THE ASSOCIATED PRESS,August,15,2019',\n",
       " 'Trump suggests trade deal can wait for Hong Kong resolution,THE ASSOCIATED PRESS,August,15,2019',\n",
       " 'U.S. â\\x80\\x98concernedâ\\x80\\x99 by Chinaâ\\x80\\x99s reported move near Hong Kong,REUTERS,August,15,2019',\n",
       " 'Satellite photos: Chinese armored vehicles parked near Hong Kong,THE ASSOCIATED PRESS,August,15,2019',\n",
       " 'Flights restart at Hong Kong airport as protesters apologize,THE ASSOCIATED PRESS,August,14,2019',\n",
       " 'U.S. senator warns China on Hong Kong trade status if it intervenes in protests,REUTERS,August,14,2019',\n",
       " 'Chinese state media urge action, voice support for Hong Kong police after overnight clashes,REUTERS,August,14,2019',\n",
       " 'Hong Kong airport reopens after overnight clashes, mass protests,REUTERS,August,14,2019',\n",
       " 'Abeâ\\x80\\x99s 1 trillion yen export dream for food, forestry items hits snag,By HIROBUMI OHINATA/ Staff Writer,August,13,2019',\n",
       " 'Hong Kong airport slowly reopens after crippling protests,THE ASSOCIATED PRESS,August,13,2019',\n",
       " 'China intervention in HK would be â\\x80\\x98catastrophe,â\\x80\\x99 Patten says,REUTERS,August,13,2019',\n",
       " 'Investors in real estate keen on Niseko resort, but not on taxes,THE ASAHI SHIMBUN,August,13,2019',\n",
       " 'Chinaâ\\x80\\x99s Xi gets tougher on Trump after new tariff threat,THE ASSOCIATED PRESS,August,13,2019',\n",
       " 'Yen, gold gain on trade war angst; Argentine peso sinks,REUTERS,August,13,2019',\n",
       " 'Hong Kong airport shuts down amid pro-democracy protest,THE ASSOCIATED PRESS,August,12,2019',\n",
       " 'Coach, Givenchy in hot water over China T-shirt row,REUTERS,August,12,2019',\n",
       " 'Cathay Pacific shares slump after China cracks down on staff protests,REUTERS,August,12,2019',\n",
       " 'Hong Kong police demonstrate water cannon as protests linger,THE ASSOCIATED PRESS,August,12,2019',\n",
       " 'ヴェルサーチェ、香港を国のように表記\\u3000批判殺到し謝罪,editor,u,nk',\n",
       " 'Hong Kong mops up after weekend of violence, braces for more protests,REUTERS,August,12,2019',\n",
       " 'Tear gas fired in Hong Kong with no end in sight to protests,THE ASSOCIATED PRESS,August,12,2019',\n",
       " 'Hong Kong police and protesters refine battle tactics,REUTERS,August,12,2019',\n",
       " 'Versace apologies in flap over T-shirts sold in China,THE ASSOCIATED PRESS,August,11,2019',\n",
       " 'Thousands rally in Hong Kong in fresh protests, marchers defy police ban,REUTERS,August,11,2019',\n",
       " 'As protesters scatter, Hong Kong residents take their place,THE ASSOCIATED PRESS,August,11,2019',\n",
       " 'Hong Kong police fire tear gas as protesters hit and run,REUTERS,August,11,2019',\n",
       " 'Hong Kong protesters march in defiance of police ban,THE ASSOCIATED PRESS,August,10,2019',\n",
       " 'U.S. says Chinese reports on U.S. diplomat in Hong Kong â\\x80\\x98dangerousâ\\x80\\x99,REUTERS,August,10,2019',\n",
       " 'China waiting out Hong Kong protests, but backlash may come,THE ASSOCIATED PRESS,August,10,2019',\n",
       " 'Pro-democracy activists protest at Hong Kong airport,THE ASSOCIATED PRESS,August,10,2019',\n",
       " 'China orders Cathay Pacific to suspend staff backing Hong Kong protests,REUTERS,August,10,2019',\n",
       " 'IMF contradicts Trump: China not manipulating its currency,THE ASSOCIATED PRESS,August,10,2019',\n",
       " 'Huawei unveils phone system that could replace Android,THE ASSOCIATED PRESS,August,9,2019',\n",
       " 'Malaysia files charges against 17 Goldman Sachs unit directors,REUTERS,August,9,2019',\n",
       " 'Protesters throng Hong Kong airport as others urge calm,REUTERS,August,9,2019',\n",
       " 'More Hong Kong protests planned as U.S. ups travel warning,REUTERS,August,8,2019',\n",
       " 'Chinaâ\\x80\\x99s yuan weakens after signs of stability calm markets,THE ASSOCIATED PRESS,August,8,2019',\n",
       " 'China warns Hong Kong facing biggest crisis since handover,THE ASSOCIATED PRESS,August,8,2019',\n",
       " \"China suspends mainland movies, stars from Taiwan's Golden Horse Awards,REUTERS,August,7,2019\",\n",
       " 'China warns Hong Kong protesters not to â\\x80\\x98play with fireâ\\x80\\x99,REUTERS,August,6,2019',\n",
       " 'China: U.S. currency manipulator labeling could cause market chaos,REUTERS,August,6,2019',\n",
       " 'U.N. urges sanctions on Myanmar army businesses,REUTERS,August,6,2019',\n",
       " 'U.S. designates China as currency manipulator,REUTERS,August,6,2019',\n",
       " 'Extradition protests in Hong Kong morphed into bigger challenge,REUTERS,August,6,2019',\n",
       " 'A day of striking sows chaos across Hong Kong,THE ASSOCIATED PRESS,August,6,2019',\n",
       " 'Hong Kong police fire tear gas as strikes paralyze city,REUTERS,August,5,2019',\n",
       " 'Strike grips HK as Lam warns Chinaâ\\x80\\x99s sovereignty tested,REUTERS,August,5,2019',\n",
       " 'Thousands protest in Hong Kong, China media warns Beijing will not let situation continue,REUTERS,August,4,2019',\n",
       " 'Hong Kong protesters and police face off in familiar cycle,THE ASSOCIATED PRESS,August,4,2019',\n",
       " 'Protesters march in Hong Kong as rival rally supports police,REUTERS,August,3,2019',\n",
       " 'SOCCER/ North Korea want to host World Cup qualifier with South in Pyongyang,REUTERS,August,3,2019',\n",
       " 'Civil servants join Hong Kong protests as Beijing accuses U.S.,THE ASSOCIATED PRESS,August,3,2019',\n",
       " 'Top China envoy: U.S. â\\x80\\x98fanning flamesâ\\x80\\x99 of Hong Kong protests,THE ASSOCIATED PRESS,August,2,2019',\n",
       " 'Chinese army releases promo video for Hong Kong troops,THE ASSOCIATED PRESS,August,2,2019',\n",
       " 'ASAHI HAIKUIST NETWORK/ David McMurray,editor,August,2,2019',\n",
       " 'Chinese billionaire indicted in U.S. for alleged tariff evasion,REUTERS,August,1,2019',\n",
       " 'U.S., China end round of trade talks; no word on progress,THE ASSOCIATED PRESS,July,31,2019',\n",
       " 'Over 20 charged with rioting appear in Hong Kong court,THE ASSOCIATED PRESS,July,31,2019',\n",
       " 'Life expectancy hits new highs, with 87.32 years for women,By KYOSUKE YAMAMOTO/ Staff Writer,July,31,2019',\n",
       " 'Pompeo â\\x80\\x98very hopefulâ\\x80\\x99 U.S.-N. Korea talks will resume soon,THE ASSOCIATED PRESS,July,31,2019',\n",
       " 'â\\x80\\x98We may lose Christmasâ\\x80\\x99: HK protests taking toll on shops,REUTERS,July,31,2019',\n",
       " 'Report of riot charges prompts sudden protest in Hong Kong,THE ASSOCIATED PRESS,July,31,2019',\n",
       " 'Huaweiâ\\x80\\x99s 1st half revenue grows despite U.S. sanctions,REUTERS,July,30,2019',\n",
       " 'HK protesters disrupt train services, cause commuter chaos,REUTERS,July,30,2019',\n",
       " 'Beijing reiterates support for Hong Kongâ\\x80\\x99s Lam, police,REUTERS,July,29,2019',\n",
       " 'Police fire tear gas, rubber bullets at Hong Kong protesters,THE ASSOCIATED PRESS,July,29,2019',\n",
       " 'Hong Kong protesters target police use of force in march,THE ASSOCIATED PRESS,July,28,2019',\n",
       " 'Hong Kong police fire tear gas, clear protesters by force,THE ASSOCIATED PRESS,July,28,2019',\n",
       " 'INSIGHT--Chinese official urged Hong Kong villagers to drive off protesters before violence at train station,REUTERS,July,27,2019',\n",
       " 'Australia says diplomats should not undermine rights, after HK protest,REUTERS,July,27,2019',\n",
       " 'China official urged HK villagers to drive off protesters,REUTERS,July,26,2019',\n",
       " \"Protesters calling for 'free Hong Kong' converge on airport,REUTERS,July,26,2019\",\n",
       " 'Asian shares fall ahead of U.S.-China trade talks,THE ASSOCIATED PRESS,July,26,2019',\n",
       " 'Hong Kong anti-government protests spill into soccer game,REUTERS,July,25,2019',\n",
       " \"China says some Hong Kong protester actions 'intolerable',THE ASSOCIATED PRESS,July,25,2019\",\n",
       " 'China warns of war if Taiwan makes move to independence,REUTERS,July,25,2019',\n",
       " 'China says U.S. â\\x80\\x98power politicsâ\\x80\\x99 undermines global stability,THE ASSOCIATED PRESS,July,25,2019',\n",
       " 'Hong Kong arrests men with gang links over mob attack,THE ASSOCIATED PRESS,July,24,2019',\n",
       " 'Li Peng, Chinese premier during Tiananmen crackdown, dies,THE ASSOCIATED PRESS,July,24,2019',\n",
       " 'Ivory from nearly 300 elephants seized in record haul,REUTERS,July,23,2019',\n",
       " 'Hong Kong crisis escalates after mob attack on protesters,THE ASSOCIATED PRESS,July,23,2019',\n",
       " 'Hong Kong police criticised over failure to stop attacks on protesters,REUTERS,July,22,2019',\n",
       " 'China lashes out at Hong Kong protest targeting its office,THE ASSOCIATED PRESS,July,22,2019',\n",
       " 'Police launch tear gas as Hong Kong protest turns violent,THE ASSOCIATED PRESS,July,22,2019',\n",
       " 'Hong Kongâ\\x80\\x99s black-clad protesters target Beijingâ\\x80\\x99s representative office,REUTERS,July,21,2019',\n",
       " 'Hong Kong residents deface Chinese emblem in latest protest,THE ASSOCIATED PRESS,July,21,2019',\n",
       " 'U.S. concerned over Chinaâ\\x80\\x99s â\\x80\\x98interferenceâ\\x80\\x99 in South China Sea,THE ASSOCIATED PRESS,July,21,2019',\n",
       " 'Veteran Hong Kong actor Simon Yam stabbed at event in China,THE ASSOCIATED PRESS,July,20,2019',\n",
       " 'Taiwan says it will treat Hong Kong asylum seekers humanely,THE ASSOCIATED PRESS,July,20,2019',\n",
       " 'Budweiser brewer sells Australian unit to Japanese rival Asahi Group,THE ASSOCIATED PRESS,July,20,2019',\n",
       " 'Ex-JPMorgan banker pleads not guilty to HK bribery charges,REUTERS,July,18,2019',\n",
       " 'Organized crime expands reach in Southeast Asia, U.N. says,REUTERS,July,18,2019',\n",
       " 'Hong Kong elders march in support of young demonstrators,THE ASSOCIATED PRESS,July,18,2019',\n",
       " 'SOCCER/ North and South Korea to meet in 2022 World Cup qualifiers,THE ASSOCIATED PRESS,July,18,2019',\n",
       " 'Hong Kong protests move to oppose China, with no end near,THE ASSOCIATED PRESS,July,17,2019',\n",
       " 'Hong Kong leader thanks police after clashes with â\\x80\\x98riotersâ\\x80\\x99,THE ASSOCIATED PRESS,July,16,2019',\n",
       " 'Hong Kong leader says protesters can be called â\\x80\\x98riotersâ\\x80\\x99,REUTERS,July,15,2019',\n",
       " 'China Q2 GDP growth slows to 27-year low as trade war bites, more stimulus seen,REUTERS,July,15,2019',\n",
       " 'Kaohsiung mayor tapped to run for Taiwan president in 2020,REUTERS,July,15,2019',\n",
       " 'Hong Kong police fight with protesters amid rising tensions,THE ASSOCIATED PRESS,July,15,2019',\n",
       " 'Hong Kong protesters resume chorus of opposition to extradition bill,REUTERS,July,14,2019',\n",
       " 'Hong Kong protesters march near border to target traders from China,REUTERS,July,13,2019',\n",
       " 'Hong Kong protests augur murky outlook for financial hub,THE ASSOCIATED PRESS,July,13,2019',\n",
       " 'Taiwan defends U.S. arms deal after China sanctions threat,THE ASSOCIATED PRESS,July,13,2019',\n",
       " 'Parents of dead Hong Kong protester urge others to carry on,THE ASSOCIATED PRESS,July,12,2019',\n",
       " 'Hong Kong activists attempt to take fight to mainland,REUTERS,July,11,2019',\n",
       " 'Chinaâ\\x80\\x99s largesse in Tonga threatens future of Pacific nation,THE ASSOCIATED PRESS,July,11,2019',\n",
       " 'Man suspected of running pirated manga website held in Manila,THE ASAHI SHIMBUN,July,10,2019',\n",
       " 'Indonesia returns 57 containers of developed worldâ\\x80\\x99s waste,THE ASSOCIATED PRESS,July,10,2019',\n",
       " 'Hong Kong protesters to continue after bill declared â\\x80\\x98deadâ\\x80\\x99,THE ASSOCIATED PRESS,July,10,2019',\n",
       " 'Hong Kong leader says extradition bill is dead after protests,REUTERS,July,9,2019',\n",
       " 'Hong Kong singer faces down China at U.N. rights body,THE ASSOCIATED PRESS,July,9,2019',\n",
       " 'Tens of thousands in Hong Kong take message to mainlanders,THE ASSOCIATED PRESS,July,8,2019',\n",
       " 'Chinaâ\\x80\\x99s envoy to Britain laments â\\x80\\x98Cold War mentalityâ\\x80\\x99 over Hong Kong protests,REUTERS,July,8,2019',\n",
       " 'Hong Kong protesters take aim at Chinese visitors to explain grievances,REUTERS,July,7,2019',\n",
       " 'Seized North Korean ship sought for American studentâ\\x80\\x99s death,THE ASSOCIATED PRESS,July,7,2019',\n",
       " 'HK leader seeks meeting with students after mass protests,REUTERS,July,5,2019',\n",
       " \"Britain denies supporting violent Hong Kong protests as China media slam 'Western ideologues',REUTERS,July,4,2019\",\n",
       " 'Nostalgic bus a tourist draw in deep mountains of Tokushima,By TOMOYUKI SUZUKI/ Staff Writer,July,4,2019',\n",
       " 'HK lawmaker: China may ramp up pressure after violence,THE ASSOCIATED PRESS,July,3,2019',\n",
       " 'Flag-waving Grandma Wong gives lesson in endurance,REUTERS,July,3,2019',\n",
       " 'Chinese state media take hard line on Hong Kong protests,THE ASSOCIATED PRESS,July,2,2019',\n",
       " 'Hong Kong riot police remove protesters from legislature,By YUICHIRO MASUMITSU/ Correspondent,July,2,2019',\n",
       " 'Protests escalate as Hong Kong marks handover to China,THE ASSOCIATED PRESS,July,1,2019',\n",
       " 'Hong Kong braces for protests amid annual handover rally,REUTERS,July,1,2019',\n",
       " 'In Taiwan, Hong Kong immigrants despair over future back home,REUTERS,June,30,2019',\n",
       " 'From Okinawa to Hong Kong to snap images of peopleâ\\x80\\x99s power,By SHOHEI OKADA/ Staff Writer,June,29,2019',\n",
       " 'G-20 leaders facing calls to protect growth, open trade,THE ASSOCIATED PRESS,June,28,2019',\n",
       " 'Abe, Xi stress closer ties while casting wary eye on Trump at G-20,THE ASAHI SHIMBUN,June,28,2019',\n",
       " 'Cabin crew urge Taiwanâ\\x80\\x99s Eva Air to resume talks amid strike,REUTERS,June,27,2019',\n",
       " 'Fresh rallies in Hong Kong as protesters defy extradition bill,REUTERS,June,27,2019',\n",
       " 'Apple to invest $100 million in struggling supplier JDI,By TSUNEO SASAI/ Staff Writer,June,27,2019',\n",
       " 'Protesters urging G-20 to discuss Hong Kong issues,THE ASSOCIATED PRESS,June,26,2019',\n",
       " 'Court quashes conviction of Hong Kong former leader Tsang,REUTERS,June,26,2019',\n",
       " 'Hong Kong protests warn that special freedoms are fading,THE ASSOCIATED PRESS,June,26,2019',\n",
       " '3 Chinese banks face U.S. action in sanctions probe--report,REUTERS,June,25,2019',\n",
       " 'Protesters block Hong Kong building access, plan new action,THE ASSOCIATED PRESS,June,24,2019',\n",
       " '1MDB case against Goldman Sachs delayed to September,REUTERS,June,24,2019',\n",
       " 'Pence puts off China speech sequel ahead of Trump-Xi talks,REUTERS,June,22,2019',\n",
       " 'Latest Hong Kong protest ends peacefully with demands unmet,THE ASSOCIATED PRESS,June,22,2019',\n",
       " 'Filipino ex-envoy says heâ\\x80\\x99s being held at Hong Kong airport,THE ASSOCIATED PRESS,June,21,2019',\n",
       " 'Black-clad protesters demand full withdrawal of extradition bill,REUTERS,June,21,2019',\n",
       " 'Hong Kong activists urge protesters to register to vote,REUTERS,June,20,2019',\n",
       " 'Hong Kong lawmakers raise complaints over police brutality,THE ASSOCIATED PRESS,June,19,2019',\n",
       " 'Hong Kong leader: Extradition bill unlikely to be revived,THE ASSOCIATED PRESS,June,18,2019',\n",
       " '18 months of surveillance led to record 1-ton stimulant bust,THE ASAHI SHIMBUN,June,18,2019',\n",
       " 'Beijing-backed candidate aims to lead casino hub of Macau,REUTERS,June,18,2019',\n",
       " 'ANALYSIS: China blinks on Hong Kong, but divide remains,THE ASSOCIATED PRESS,June,18,2019',\n",
       " 'China stands by Hong Kong leader after days of street protests,REUTERS,June,18,2019',\n",
       " 'Protesters demand that embattled Hong Kong leader resign,THE ASSOCIATED PRESS,June,18,2019',\n",
       " 'With sense of unease, Taiwan rallies behind Hongkongers,By HIDESHI NISHIMOTO/ Correspondent,June,17,2019',\n",
       " 'Hong Kong rich start moving assets offshore as fears rise,REUTERS,June,17,2019',\n",
       " 'Japan Display loses Taiwanese partner in bailout plan,THE ASAHI SHIMBUN,June,17,2019',\n",
       " 'VOX POPULI: Hong Kong protestersâ\\x80\\x99 fight evokes images of â\\x80\\x98Attack on Titanâ\\x80\\x99,Vox Populi, Vox Dei is a daily column that runs on Page 1 of The Asahi Shimbun.,June,17,2019',\n",
       " 'Pressure builds as democracy activist vows to join protests,REUTERS,June,17,2019',\n",
       " 'Hong Kong police begin to clear streets of protesters,THE ASSOCIATED PRESS,June,17,2019',\n",
       " 'Massive protests draw apology from Hong Kong leadership,THE ASSOCIATED PRESS,June,17,2019',\n",
       " 'After bill fiasco, Hong Kong chief fights for political life,THE ASSOCIATED PRESS,June,16,2019',\n",
       " 'Hong Kong leader suspendsã\\x80\\x80extradition bill after protests,REUTERS,June,15,2019',\n",
       " 'Chinese state media urges retribution after UBS economistâ\\x80\\x99s â\\x80\\x98insultâ\\x80\\x99,REUTERS,June,15,2019',\n",
       " 'Tokyo marchers show support for Hong Kongers in fight for liberty,By SOTARO HATA/ Staff Writer,June,14,2019',\n",
       " 'Taiwan leader Tsai gets party nod to run for re-election,THE ASSOCIATED PRESS,June,14,2019',\n",
       " 'Hong Kong protesters scuffle with police, government offices shut,REUTERS,June,14,2019',\n",
       " 'China cyberattack hits messaging app during HK protest,THE ASSOCIATED PRESS,June,13,2019',\n",
       " 'Hong Kong legislative work suspended amid political crisis,THE ASSOCIATED PRESS,June,13,2019',\n",
       " 'Hong Kong traffic flowing day after political crisis flared,THE ASSOCIATED PRESS,June,13,2019',\n",
       " 'â\\x80\\x98We will use forceâ\\x80\\x99: HK police fire tear gas as protesters throw bottles,REUTERS,June,12,2019',\n",
       " 'New Zealand court stops man from being extradited to China,THE ASSOCIATED PRESS,June,12,2019',\n",
       " 'Hong Kong delays bill debate as protest crowds block entry,THE ASSOCIATED PRESS,June,12,2019',\n",
       " 'Hong Kong pushes bill allowing extraditions to China despite biggest protest since handover,REUTERS,June,11,2019',\n",
       " 'HK lawmaker gets suspended sentence over â\\x80\\x98Occupyâ\\x80\\x99 charges,REUTERS,June,10,2019',\n",
       " 'Lam vows to pass extradition bill despite huge protest,REUTERS,June,10,2019',\n",
       " 'Massive extradition bill protest fills Hong Kong streets,THE ASSOCIATED PRESS,June,10,2019',\n",
       " 'Huge Hong Kong protest expected in last push to scrap extradition bill,REUTERS,June,8,2019',\n",
       " 'Thai court sentences ex-PM to prison over lottery program,THE ASSOCIATED PRESS,June,7,2019',\n",
       " 'Asian stocks trail U.S. rise on Mexico trade deal optimism,THE ASSOCIATED PRESS,June,7,2019',\n",
       " 'Extradition law is â\\x80\\x98final nailâ\\x80\\x99 in Hong Kongâ\\x80\\x99s coffin--activist,REUTERS,June,5,2019',\n",
       " 'Dissident artist reveals face on Tiananmen anniversary,REUTERS,June,5,2019',\n",
       " 'China handles Tiananmen anniversary with usual silence,THE ASSOCIATED PRESS,June,5,2019',\n",
       " 'Hong Kong activists hold Tiananmen candlelight vigil,THE ASSOCIATED PRESS,June,5,2019',\n",
       " '30 years after Tiananmen, China continues coverup, says Taiwan,REUTERS,June,4,2019',\n",
       " 'Taiwan lashes back at Chinese defense ministerâ\\x80\\x99s threats,THE ASSOCIATED PRESS,June,3,2019',\n",
       " 'Huawei to sell undersea cable business, buyerâ\\x80\\x99s filing shows,REUTERS,June,3,2019',\n",
       " 'Global recession fears grow as manufacturing shrinks in Asia,REUTERS,June,3,2019',\n",
       " 'Vietnam culls 2 million pigs, urges nation to fight swine fever,REUTERS,May,31,2019',\n",
       " 'Tiananmen vets look back on movementâ\\x80\\x99s mistakes, passion,THE ASSOCIATED PRESS,May,31,2019',\n",
       " 'Philippines ships 69 containers of garbage back to Canada,THE ASSOCIATED PRESS,May,31,2019',\n",
       " 'Hong Kong judges say proposed extradition changes risky,REUTERS,May,29,2019',\n",
       " 'Chinese tourism to U.S. drops for 1st time in 15 years,THE ASSOCIATED PRESS,May,28,2019',\n",
       " 'Thousands in Hong Kong commemorate 1989 Tiananmen protests,THE ASSOCIATED PRESS,May,27,2019',\n",
       " 'Taiwan celebrates Asiaâ\\x80\\x99s 1st same-sex marriages as couples wed,REUTERS,May,24,2019',\n",
       " 'U.S. eases curbs on Huawei; founder says clampdown underestimates Chinese firm,REUTERS,May,22,2019',\n",
       " 'Hong Kong leader presses on with extradition bill called â\\x80\\x98evilâ\\x80\\x99,REUTERS,May,21,2019',\n",
       " 'Chinaâ\\x80\\x99s pig disease outbreak pushes up global pork prices,THE ASSOCIATED PRESS,May,20,2019',\n",
       " 'In first for Asia, Taiwan endorses same-sex marriage,REUTERS,May,17,2019',\n",
       " 'Hong Kong court sends protest leader back to jail as â\\x80\\x98deterrentâ\\x80\\x99,REUTERS,May,17,2019',\n",
       " 'ANALYSIS/ Blacklist mess: Huaweiâ\\x80\\x99s $105 billion business at stake after U.S. broadside,REUTERS,May,17,2019',\n",
       " 'Empty resort housing units hand keys over to private lodgers,By SHIN MATSUURA/ Staff Writer,May,14,2019',\n",
       " 'Hong Kong legislators brawl over contentious extradition law,REUTERS,May,12,2019',\n",
       " \"China still 'cautiously optimistic' on U.S. trade talks despite new tariffs,REUTERS,May,12,2019\",\n",
       " 'Car navigation system makers searching for road to success,By RYOKO TAKAHASHI/ Staff Writer,May,12,2019',\n",
       " 'Chaotic scenes at Hong Kong legislature over extradition law,THE ASSOCIATED PRESS,May,11,2019',\n",
       " 'China, U.S. to hold more trade talks as Trump ratchets up tariff threat,REUTERS,May,11,2019',\n",
       " 'Chinese companies brace for tariff hike amid trade talks,THE ASSOCIATED PRESS,May,10,2019',\n",
       " 'Hong Kong court hands prison term to smuggler with rare turtles,By YUICHIRO MASUMITSU/ Correspondent,May,8,2019',\n",
       " 'Images show work on Chinaâ\\x80\\x99s 3rd, and largest, aircraft carrier,REUTERS,May,8,2019',\n",
       " 'Boeing 737 Max 8 woes crimp Asian airlinesâ\\x80\\x99 growth plans,THE ASSOCIATED PRESS,May,7,2019',\n",
       " 'Source: Softbank mulling IPO of $100 billion Vision Fund,REUTERS,May,4,2019',\n",
       " 'Support for gay rights seen growing in Singapore,THOMSON REUTERS FOUNDATION,May,3,2019',\n",
       " 'Ex-CIA officer admits to espionage conspiracy with China,THE ASSOCIATED PRESS,May,2,2019',\n",
       " 'Thousands march on May Day, demand better working conditions,THE ASSOCIATED PRESS,May,2,2019',\n",
       " 'Thousands take to Hong Kong streets to protest new extradition laws,REUTERS,April,28,2019',\n",
       " 'Michael Wolf, photographer of mega-cities, dies in Hong Kong,THE ASSOCIATED PRESS,April,27,2019',\n",
       " 'S. Korea economy shrinks in Q1, worst since 2008 bank crisis,REUTERS,April,25,2019',\n",
       " 'Leaders of Hong Kong pro-democracy protests sentenced,THE ASSOCIATED PRESS,April,24,2019',\n",
       " 'Chinaâ\\x80\\x99s Huawei says 1Q sales up 39% despite U.S. pressure,THE ASSOCIATED PRESS,April,22,2019',\n",
       " 'Samsung delays Galaxy Fold media events in China,REUTERS,April,22,2019',\n",
       " 'â\\x80\\x98Tank manâ\\x80\\x99 video stirs China outcry ahead of Tiananmen date,REUTERS,April,19,2019',\n",
       " 'S. Korea to shift Japan policy section, stoking fears over ties,By HAJIMU TAKEDA/ Correspondent,April,18,2019',\n",
       " 'Chinaâ\\x80\\x99s Q1 growth steadies, but too early to call clear recovery,REUTERS,April,17,2019',\n",
       " 'Asian shares little changed ahead of China GDP release,THE ASSOCIATED PRESS,April,17,2019',\n",
       " 'China seizes 2,700 ivory tusks in massive smuggling case,THE ASSOCIATED PRESS,April,16,2019',\n",
       " 'U.S. to press allies to keep Huawei out of 5G in Prague meeting--sources,REUTERS,April,16,2019',\n",
       " 'In Cantonese opera, Trump finds his twin brother in China,THE ASSOCIATED PRESS,April,14,2019',\n",
       " 'After 6 months, Toyosu market struggles with shrinking trade,THE ASAHI SHIMBUN,April,12,2019',\n",
       " 'China police seize drug shipment concealed in banana truck,THE ASSOCIATED PRESS,April,11,2019',\n",
       " 'Record hauls of endangered pangolin scales sparks concern,THE ASSOCIATED PRESS,April,11,2019',\n",
       " 'Chinaâ\\x80\\x99s spreading influence in Eastern Europe worries West,THE ASSOCIATED PRESS,April,11,2019',\n",
       " 'Hong Kong protest organizers free on bail before sentencing,THE ASSOCIATED PRESS,April,10,2019',\n",
       " 'China state planner wants to eliminate bitcoin mining,REUTERS,April,9,2019',\n",
       " 'Hong Kong activists found guilty for role in mass rallies,REUTERS,April,9,2019',\n",
       " 'Hong Kong customs seizes massive cocaine haul,THE ASSOCIATED PRESS,April,4,2019',\n",
       " 'China Belt and Road binge moves to Americas, rattles U.S.,THE ASSOCIATED PRESS,April,4,2019',\n",
       " 'Renault board meets over Ghosn investigation, paycheck,THE ASSOCIATED PRESS,April,3,2019',\n",
       " 'Proposed Hong Kong extradition law changes spark concerns,THE ASSOCIATED PRESS,March,31,2019',\n",
       " 'Thai king strips fugitive ex-PM Thaksin of royal decorations,THE ASSOCIATED PRESS,March,31,2019',\n",
       " 'JP Morgan, Nomura get nod for China brokerage JVs as market access expands,REUTERS,March,30,2019',\n",
       " 'Taiwanâ\\x80\\x99s Tsai confirms request to buy new U.S. fighters, tanks,THE ASSOCIATED PRESS,March,28,2019',\n",
       " '2 execs arrested for fraud; links to Nigerian crime group suspected,By TATSURO SUGIURA/ Staff Writer,March,28,2019',\n",
       " 'Taiwan president, seeking tanks and fighters, says U.S. responding positively,REUTERS,March,28,2019',\n",
       " 'China tech firms, seeking passion and energy, promote younger staff,REUTERS,March,25,2019',\n",
       " 'New Thai government may be unstable, short-lived,THE ASSOCIATED PRESS,March,23,2019',\n",
       " 'Japanâ\\x80\\x99s happy rating falls to 58th, â\\x80\\x98generosityâ\\x80\\x99 at low level,By GAKUSHI FUJIWARA/ Staff Writer,March,21,2019',\n",
       " 'Poll: Asian business sentiment near 3-year low as trade war drags,THOMSON REUTERS FOUNDATION,March,20,2019',\n",
       " 'Malaysia to summons 2 Goldman Sachs units over 1MDB,REUTERS,March,18,2019',\n",
       " 'Hong Kong, Taiwan activists wary of Chinese operatives,REUTERS,March,18,2019',\n",
       " \"China's moves on foreign investment help shore up markets,THE ASSOCIATED PRESS,March,16,2019\",\n",
       " 'Premier Li: China will offer Taiwan â\\x80\\x98preferential policiesâ\\x80\\x99,THE ASSOCIATED PRESS,March,15,2019',\n",
       " 'China says Taiwan moves like â\\x80\\x98stretching arm to block a carâ\\x80\\x99,THE ASSOCIATED PRESS,March,13,2019',\n",
       " 'U.S. envoy calls Chinaâ\\x80\\x99s Muslim camps â\\x80\\x98horrific,â\\x80\\x99 wants probe,THE ASSOCIATED PRESS,March,12,2019',\n",
       " 'Taiwan president to visit Palau, Nauru, Marshall Islands,REUTERS,March,12,2019',\n",
       " 'China protests U.S. criticism of policies on religion,THE ASSOCIATED PRESS,March,10,2019',\n",
       " 'U.S. envoy for religious freedom slams China in Hong Kong visit,REUTERS,March,8,2019',\n",
       " 'China tightens rules on wealth, lifts view for foreign banks,REUTERS,March,8,2019',\n",
       " 'Chinaâ\\x80\\x99s Huawei launches court challenge to U.S. security law,THE ASSOCIATED PRESS,March,7,2019',\n",
       " 'Meaningful U.S.-China trade deal could be hard to reach,THE ASSOCIATED PRESS,March,6,2019',\n",
       " 'Rights group says China arrests at least 3 labor activists,REUTERS,February,28,2019',\n",
       " 'Trump-Kim summit to have â\\x80\\x98maximum levelâ\\x80\\x99 security,THE ASSOCIATED PRESS,February,25,2019',\n",
       " 'China unveils plans to develop Hong Kong, Macao bay area,REUTERS,February,19,2019',\n",
       " 'Macao police probe suspected murder at Sands casino resort,REUTERS,February,18,2019',\n",
       " 'Chinaâ\\x80\\x99s leaders want more babies, but local officials resist,THE ASSOCIATED PRESS,February,18,2019',\n",
       " 'Sweden probing its envoy to China over â\\x80\\x98threateningâ\\x80\\x99 meeting,THE ASSOCIATED PRESS,February,15,2019',\n",
       " 'Hong Kong snares record haul of rhino horns from S. Africa,REUTERS,February,15,2019',\n",
       " 'Asiaâ\\x80\\x99s â\\x80\\x98gay Netflixâ\\x80\\x99 to woo Indian audiences in 2019,THOMSON REUTERS FOUNDATION,February,14,2019',\n",
       " 'Thai princess apologizes after being disqualified from PM run,REUTERS,February,13,2019',\n",
       " 'Apple iPhone sales in China fell by a fifth in Q4,REUTERS,February,12,2019',\n",
       " 'Travel in China grows over Lunar New Year holiday--Xinhua,REUTERS,February,11,2019',\n",
       " 'Chinese businessman denies reported justification for Australian visa cancellation,REUTERS,February,9,2019',\n",
       " 'Pilots at Taiwanese liner strike during Lunar New Year rush,THE ASSOCIATED PRESS,February,8,2019',\n",
       " 'Asian stocks fall after Trump says no plans for Xi meeting,THE ASSOCIATED PRESS,February,8,2019',\n",
       " 'â\\x80\\x98Water from airâ\\x80\\x99 aims to turn back Thailandâ\\x80\\x99s tide of plastic,THOMSON REUTERS FOUNDATION,February,6,2019',\n",
       " 'Asia welcomes Year of the Pig with banquets, temple visits,THE ASSOCIATED PRESS,February,5,2019',\n",
       " 'VOX POPULI: Hong Kongers knock back Fukushima sake, despite food ban,Vox Populi, Vox Dei is a daily column that runs on Page 1 of The Asahi Shimbun.,February,5,2019',\n",
       " 'Hong Kongâ\\x80\\x99s wild boar dilemma mars Chinese New Year,REUTERS,February,4,2019',\n",
       " 'Hong Kong police destroy WWI grenade found in potatoes,THE ASSOCIATED PRESS,February,4,2019',\n",
       " \"Erik Prince had 'no knowledge' of training agreement in China's Xinjiang --spokesman,REUTERS,February,2,2019\",\n",
       " 'Hong Kong customs seize record haul of pangolin scales bound for Vietnam,REUTERS,February,2,2019',\n",
       " 'Hong Kong court denies male status to 3 transgender men,THE ASSOCIATED PRESS,February,2,2019',\n",
       " 'Hong Kong film hotspot Avenue of Stars reopens in Kowloon,By YUICHIRO MASUMITSU/ Correspondent,February,1,2019',\n",
       " 'Macauâ\\x80\\x99s casinos post first revenue drop in 29 months,REUTERS,February,1,2019',\n",
       " 'Xiâ\\x80\\x99s tough talk on Taiwan backfires, as Tsai support surges,THE ASSOCIATED PRESS,January,31,2019',\n",
       " 'Huawei lawyer: Meng a â\\x80\\x98hostageâ\\x80\\x99 after U.S. presses charges,REUTERS,January,29,2019',\n",
       " 'China jailing of website founder aims at grassroots activism,REUTERS,January,29,2019',\n",
       " 'Boat tours to see floating ice floes start in eastern Hokkaido,By ATSUSH ISHIMA/ Staff Writer,January,27,2019']"
      ]
     },
     "execution_count": 4,
     "metadata": {},
     "output_type": "execute_result"
    }
   ],
   "source": [
    "list(Japan.keys())"
   ]
  },
  {
   "cell_type": "code",
   "execution_count": 1,
   "metadata": {},
   "outputs": [],
   "source": [
    "# filter the Japan, remove the unrelated document\n",
    "import nltk\n",
    "import pandas as pd\n",
    "import numpy as np"
   ]
  },
  {
   "cell_type": "code",
   "execution_count": 7,
   "metadata": {},
   "outputs": [],
   "source": [
    "document = ''\n",
    "for i in range(len(list(Japan.values()))):\n",
    "    document += list(Japan.values())[i]"
   ]
  },
  {
   "cell_type": "code",
   "execution_count": 9,
   "metadata": {},
   "outputs": [],
   "source": [
    "doc_tokens = nltk.word_tokenize(document)\n",
    "text1 = nltk.Text(doc_tokens)"
   ]
  },
  {
   "cell_type": "code",
   "execution_count": 12,
   "metadata": {},
   "outputs": [
    {
     "name": "stdout",
     "output_type": "stream",
     "text": [
      "20828\n",
      "17943\n"
     ]
    }
   ],
   "source": [
    "# number of unique tokens\n",
    "print(len(set(text1)))\n",
    "# After lemmatizing, the number of unique words\n",
    "from nltk.stem import WordNetLemmatizer\n",
    "lemmatizer = WordNetLemmatizer()\n",
    "lemmatized = [lemmatizer.lemmatize(w,'v') for w in text1]\n",
    "print(len(set(lemmatized)))    "
   ]
  },
  {
   "cell_type": "code",
   "execution_count": 13,
   "metadata": {},
   "outputs": [
    {
     "name": "stdout",
     "output_type": "stream",
     "text": [
      "[('the', 12302), (',', 11807), ('to', 7337), ('of', 6238), ('and', 5990), ('in', 5655), ('a', 5212), ('.', 4495), ('``', 3472), (\"'s\", 3012), ('on', 2490), ('Kong', 2410), ('Hong', 2403), ('that', 2394), ('for', 2307), ('said', 2127), (\"''\", 2042), ('China', 1650), ('with', 1530), ('is', 1522)]\n"
     ]
    }
   ],
   "source": [
    "# 20 most frequent unique tokens\n",
    "import collections\n",
    "from operator import itemgetter  \n",
    "dist = nltk.FreqDist(text1)\n",
    "sorted_dist = collections.OrderedDict(sorted(dist.items(), key = itemgetter(1), reverse = True))\n",
    "print(list(sorted_dist.items())[:20])"
   ]
  },
  {
   "cell_type": "code",
   "execution_count": 15,
   "metadata": {},
   "outputs": [
    {
     "name": "stdout",
     "output_type": "stream",
     "text": [
      "['Beijing', 'British', 'Carrie', 'Chinese', 'Communist', 'Friday', 'Huawei', 'Monday', 'President', 'States', 'Sunday', 'Taiwan', 'Tuesday', 'United', 'Wednesday', 'against', 'because', 'before', 'between', 'billion', 'business', 'called', 'companies', 'company', 'country', 'demands', 'demonstrations', 'demonstrators', 'extradition', 'financial', 'foreign', 'former', 'freedoms', 'global', 'government', 'including', 'international', 'leader', 'mainland', 'million', 'months', 'official', 'people', 'percent', 'police', 'political', 'pro-democracy', 'protest', 'protesters', 'protests', 'public', 'recent', 'rights', 'support', 'systems', 'territory', 'through', 'violence', 'violent']\n"
     ]
    }
   ],
   "source": [
    "chosed_tokens = [x for x in dist.keys() if len(x) > 5 and dist[x] > 150]\n",
    "chosed_tokens = sorted(chosed_tokens)\n",
    "print(chosed_tokens)    "
   ]
  },
  {
   "cell_type": "code",
   "execution_count": 48,
   "metadata": {},
   "outputs": [
    {
     "data": {
      "text/plain": [
       "'Thousands take to Hong Kong streets to protest new extradition laws,REUTERS,April,28,2019'"
      ]
     },
     "execution_count": 48,
     "metadata": {},
     "output_type": "execute_result"
    }
   ],
   "source": [
    "key"
   ]
  },
  {
   "cell_type": "code",
   "execution_count": 47,
   "metadata": {},
   "outputs": [
    {
     "data": {
      "text/plain": [
       "'HONG KONG--Thousands of people marched on Hong Kong\\'s parliament on Sunday to demand the scrapping of proposed extradition rules that would allow people to be sent to mainland China for trial--a move which some fear puts the city\\'s core freedoms at risk.Opponents of the proposal fear further erosion of rights and legal protections in the free-wheeling financial hub--freedoms which were guaranteed under the city\\'s handover from British colonial rule to Chinese sovereignty in 1997.Early estimates suggested several thousand people had joined the march along Hong Kong Island from Causeway Bay to the council in the Admiralty business district.Veteran Hong Kong activist and former legislator Leung Kwok-hung said the government\\'s move risked removing Hong Kongers\\' \"freedom from fear.\"\"Hong Kong people and visitors passing by Hong Kong will lose their right not to be extradited into mainland China,\" he said. \"They would need to face an unjust legal system on the mainland.\"The proposed changes have sparked an unusually broad chorus of concern from international business elites to lawyers and rights\\' groups and even some pro-establishment figures.Chris Patten, the last British governor of Hong Kong who handed the city back to Chinese rule in 1997, on Saturday described the move \"as an assault on Hong Kong\\'s values, stability and security,\" government-funded broadcaster RTHK reported.Hong Kong Chief Executive Carrie Lam and other government officials are standing fast by their proposals, saying they are vital to plug long-standing loopholes.Under the changes, the Hong Kong leader would have the right to order the extradition of wanted offenders to China, Macau and Taiwan as well as other countries not covered by Hong Kong\\'s existing extradition treaties.As a safeguard such orders, to be issued case-by-case, could be challenged and appealed through the city\\'s vaunted legal system. But they will no longer be subject to review by the council as before, according to the government\\'s plan.Government officials have said no-one at risk of the death penalty or torture or facing a political charge could be sent from Hong Kong. Under pressure from local business groups, they earlier exempted nine commercial crimes from the new provisions.The proposals could be passed into law later in the year, with the city\\'s pro-democratic camp no longer holding enough seats to block the move.The government has justified the swift introduction of the changes by saying they are needed so a young Hong Kong man suspected of murdering his girlfriend in Taiwan can be extradited to face charges there.Sunday\\'s march comes amid renewed calls for deeper electoral reforms stalled five years ago after the so-called Occupy protest movement paralyzed key parts of the city for 11 weeks to demand genuine full democracy.Four leaders of the movement were last week sentenced to jail terms ranging from eight to 16 months, part of a group of nine activists found guilty after a near month-long trial.'"
      ]
     },
     "execution_count": 47,
     "metadata": {},
     "output_type": "execute_result"
    }
   ],
   "source": [
    "key = list(Japan.keys())[327]\n",
    "value = Japan[key]\n",
    "value"
   ]
  },
  {
   "cell_type": "code",
   "execution_count": 49,
   "metadata": {},
   "outputs": [],
   "source": [
    "Japan_filter = {}\n",
    "for i in range(327):\n",
    "    key = list(Japan.keys())[i]\n",
    "    value = Japan[key]\n",
    "    if 'protest' in value or 'Protest' in value or 'protests' in value or 'Protests' in value:\n",
    "        Japan_filter[key] = value"
   ]
  },
  {
   "cell_type": "code",
   "execution_count": 50,
   "metadata": {},
   "outputs": [],
   "source": [
    "# save as json\n",
    "with open('Japan_filter.json', 'w') as outfile:\n",
    "    json.dump(Japan_filter, outfile)"
   ]
  },
  {
   "cell_type": "code",
   "execution_count": 1,
   "metadata": {},
   "outputs": [],
   "source": [
    "# load json\n",
    "import json\n",
    "with open('Japan_filter.json', 'r') as outfile:\n",
    "        Japan = json.load(outfile)"
   ]
  },
  {
   "cell_type": "code",
   "execution_count": 5,
   "metadata": {},
   "outputs": [
    {
     "data": {
      "text/plain": [
       "235"
      ]
     },
     "execution_count": 5,
     "metadata": {},
     "output_type": "execute_result"
    }
   ],
   "source": [
    "len(list(Japan.keys()))"
   ]
  },
  {
   "cell_type": "code",
   "execution_count": 22,
   "metadata": {},
   "outputs": [
    {
     "name": "stdout",
     "output_type": "stream",
     "text": [
      "0.5\n",
      "0.14285714285714285\n"
     ]
    }
   ],
   "source": [
    "# path similarity\n",
    "deer = wn.synset('deer.n.01')\n",
    "elk = wn.synset('elk.n.01')\n",
    "horse = wn.synset('horse.n.01')\n",
    "print(deer.path_similarity(elk))\n",
    "print(deer.path_similarity(horse))"
   ]
  },
  {
   "cell_type": "code",
   "execution_count": 29,
   "metadata": {},
   "outputs": [
    {
     "name": "stdout",
     "output_type": "stream",
     "text": [
      "0.8623778273893673\n",
      "0.7726998936065773\n"
     ]
    }
   ],
   "source": [
    "# Lin similarity\n",
    "from nltk.corpus import wordnet_ic\n",
    "brown_ic = wordnet_ic.ic('ic-brown.dat')\n",
    "print(deer.lin_similarity(elk,brown_ic))\n",
    "print(deer.lin_similarity(horse,brown_ic))"
   ]
  },
  {
   "cell_type": "code",
   "execution_count": 31,
   "metadata": {},
   "outputs": [],
   "source": [
    "# Distributional similarity: context\n",
    "# Words before, after, within a small window\n",
    "# Pointwise Mutual Information PMI(w,c) = log[P(w,c)/P(w)P(c)]\n",
    "import nltk \n",
    "from nltk.collocations import *\n",
    "\n",
    "#bigram_measures = nltk.collocations.BigramAssocMeasures()\n",
    "#finder = BigramCollocationFinder.from_words(text)\n",
    "#finder.nbest(bigram_measures.pmi,10)\n",
    "#finder.apply_freq_filter(10)"
   ]
  },
  {
   "cell_type": "code",
   "execution_count": 2,
   "metadata": {},
   "outputs": [],
   "source": [
    "# textrank with gensim\n",
    "from gensim.summarization.summarizer import summarize\n",
    "from gensim.summarization import keywords"
   ]
  },
  {
   "cell_type": "code",
   "execution_count": 4,
   "metadata": {},
   "outputs": [
    {
     "data": {
      "text/plain": [
       "'HONG KONG--Overseas, Joshua Wong has emerged as a prominent face of Hong Kong\\'s months-long protests for full democracy. At home, he is just another protester.The 22-year-old activist, who rose to fame as a leader of democracy protests five years ago, speaks to a U.S. congressional committee on Tuesday, following visits to Germany and Taiwan to drum up support for the movement.While not diminishing the importance of that role, other protesters say Wong does not speak for what is purposefully a leaderless movement. He has received media coverage, both because he is well-known and the movement is largely faceless, since many protesters speak only anonymously and wear masks to try to avoid arrest.\"Not that nobody cares about what he says, but it\\'s just that Joshua Wong alone cannot represent the whole of Hong Kong,\" said Sean Au, a 17-year-old student. \"He is just a participant, no longer a leader.\"His activities have nonetheless made him a target of the Chinese government, which has used him to accuse foreign powers of colluding with anti-China separatists to foment unrest.Wong\\'s activism started at age 13 when he joined protests against a proposed high-speed rail link between Hong Kong and mainland China. The link opened last year after many delays.The bespectacled teen set up a student activist group, Scholarism, months later and rallied more than 100,000 people to protest a plan to implement mandatory patriotic education in schools. The government eventually dropped the plan.It was the 2014 Umbrella Revolution that propelled Wong into the global spotlight. Protesters occupied major thoroughfares in the semiautonomous Chinese territory for 79 days in an ultimately unsuccessful push for direct elections for the city\\'s leaders.Wong co-founded a political party, Demosisto, in 2016, but its members were disqualified from serving and later even running for office because they advocated self-determination. He remains secretary-general of the organization, which now describes itself on Twitter as a movement-oriented youth activist group.Wong, who has been arrested and jailed repeatedly, was released in June, days after more than a million people took to the streets to protest an extradition bill which is widely regarded as an example of China chipping away at the city\\'s autonomy.He was rearrested last month along with several others and charged with organizing an illegal rally outside a police station in June.While Wong has inspired many, neither he nor other well-known individuals or groups have a central role in this summer\\'s mass movement, said Bonnie Leung of the Civil Human Rights Front, which has organized several massive marches this summer.Leung acknowledged that Wong\\'s reputation as the poster child of the 2014 protest gives him stature as a protest representative on the global stage, along with others such as Hong Kong pop star Denise Ho.\"Globally we need actions that will make (the Hong Kong and Beijing governments) think twice before they act,\" she said. \"Joshua Wong is a well-known face across the world and he can help in this.\"Wong and Ho are among five people due to speak at a hearing of the U.S. Congressional-Executive Commission on China titled \"Hong Kong\\'s Summer of Discontent and U.S. Policy Responses.\"They hope to rally support for the Hong Kong Human Rights and Democracy Act, a bill proposing economic sanctions and penalties on Chinese and Hong Kong officials found to have suppressed democracy in the city.Mousse Chan, a 45-year-old teacher, said she supports Wong in his global tour, though she echoed the view that he is not their leader.\"We believe that every Hong Kong citizen has a responsibility to raise awareness about our cause and he is just one of them,\" she said.Wong has accused the government of trying to frame prominent activists such as himself as a warning to other protesters, but he said it was doomed to fail as the current unrest has no centralized figureheads.Born in 1996 to a middle-class Christian family, Wong has said his passion was ignited after his father started taking him to poorer areas when he was a young child. He has written a book called \"I Am Not a Hero\" and featured in a Netflix documentary entitled \"Joshua: Teenager vs. Superpower.\"Ahead of his trip to Germany this month, he made headlines in Berlin after suggesting that two panda cubs--born to pandas rented from China at the Berlin Zoo--be named \"Democracy\" and \"Freedom\" to send a clear signal to China.He later compared Hong Kong with East Germany during the pro-democracy protests that led to the fall of the Berlin Wall. Beijing has rebuked German Foreign Minister Heiko Maas for meeting Wong, saying he disrespected China\\'s sovereignty.Wong tweeted Sunday that human rights clauses should be included in the ongoing trade negotiations between the United States and China.\"I see no reason for us to give up and it\\'s time for the world to stand with Hong Kong,\" he said.'"
      ]
     },
     "execution_count": 4,
     "metadata": {},
     "output_type": "execute_result"
    }
   ],
   "source": [
    "list(Japan.values())[0]"
   ]
  },
  {
   "cell_type": "code",
   "execution_count": 5,
   "metadata": {},
   "outputs": [
    {
     "name": "stdout",
     "output_type": "stream",
     "text": [
      "He remains secretary-general of the organization, which now describes itself on Twitter as a movement-oriented youth activist group.Wong, who has been arrested and jailed repeatedly, was released in June, days after more than a million people took to the streets to protest an extradition bill which is widely regarded as an example of China chipping away at the city's autonomy.He was rearrested last month along with several others and charged with organizing an illegal rally outside a police station in June.While Wong has inspired many, neither he nor other well-known individuals or groups have a central role in this summer's mass movement, said Bonnie Leung of the Civil Human Rights Front, which has organized several massive marches this summer.Leung acknowledged that Wong's reputation as the poster child of the 2014 protest gives him stature as a protest representative on the global stage, along with others such as Hong Kong pop star Denise Ho.\"Globally we need actions that will make (the Hong Kong and Beijing governments) think twice before they act,\" she said.\n",
      "\"Joshua Wong is a well-known face across the world and he can help in this.\"Wong and Ho are among five people due to speak at a hearing of the U.S. Congressional-Executive Commission on China titled \"Hong Kong's Summer of Discontent and U.S. Policy Responses.\"They hope to rally support for the Hong Kong Human Rights and Democracy Act, a bill proposing economic sanctions and penalties on Chinese and Hong Kong officials found to have suppressed democracy in the city.Mousse Chan, a 45-year-old teacher, said she supports Wong in his global tour, though she echoed the view that he is not their leader.\"We believe that every Hong Kong citizen has a responsibility to raise awareness about our cause and he is just one of them,\" she said.Wong has accused the government of trying to frame prominent activists such as himself as a warning to other protesters, but he said it was doomed to fail as the current unrest has no centralized figureheads.Born in 1996 to a middle-class Christian family, Wong has said his passion was ignited after his father started taking him to poorer areas when he was a young child.\n"
     ]
    }
   ],
   "source": [
    "print(summarize(list(Japan.values())[0],word_count=300))"
   ]
  },
  {
   "cell_type": "code",
   "execution_count": 14,
   "metadata": {},
   "outputs": [
    {
     "name": "stdout",
     "output_type": "stream",
     "text": [
      "\"Joshua Wong is a well-known face across the world and he can help in this.\"Wong and Ho are among five people due to speak at a hearing of the U.S. Congressional-Executive Commission on China titled \"Hong Kong's Summer of Discontent and U.S. Policy Responses.\"They hope to rally support for the Hong Kong Human Rights and Democracy Act, a bill proposing economic sanctions and penalties on Chinese and Hong Kong officials found to have suppressed democracy in the city.Mousse Chan, a 45-year-old teacher, said she supports Wong in his global tour, though she echoed the view that he is not their leader.\"We believe that every Hong Kong citizen has a responsibility to raise awareness about our cause and he is just one of them,\" she said.Wong has accused the government of trying to frame prominent activists such as himself as a warning to other protesters, but he said it was doomed to fail as the current unrest has no centralized figureheads.Born in 1996 to a middle-class Christian family, Wong has said his passion was ignited after his father started taking him to poorer areas when he was a young child.\n"
     ]
    }
   ],
   "source": [
    "print(summarize(list(Japan.values())[0],word_count=100))"
   ]
  },
  {
   "cell_type": "code",
   "execution_count": 23,
   "metadata": {},
   "outputs": [],
   "source": [
    "#keywords(list(Japan.values())[0]).split('\\n')"
   ]
  },
  {
   "cell_type": "code",
   "execution_count": 25,
   "metadata": {},
   "outputs": [
    {
     "name": "stderr",
     "output_type": "stream",
     "text": [
      "[nltk_data] Downloading package stopwords to\n",
      "[nltk_data]     C:\\Users\\wxp\\AppData\\Roaming\\nltk_data...\n",
      "[nltk_data]   Unzipping corpora\\stopwords.zip.\n"
     ]
    }
   ],
   "source": [
    "# similarity calculation\n",
    "import pandas as pd\n",
    "import numpy as np\n",
    "import nltk\n",
    "nltk.download('stopwords')\n",
    "from nltk.corpus import stopwords\n",
    "from nltk.stem import SnowballStemmer\n",
    "import re\n",
    "from gensim import utils\n",
    "from gensim.models.doc2vec import LabeledSentence\n",
    "from gensim.models.doc2vec import TaggedDocument\n",
    "from gensim.models import Doc2Vec\n",
    "from sklearn.metrics.pairwise import cosine_similarity\n",
    "from sklearn.metrics import accuracy_score\n",
    "\n",
    "text = list(Japan.values())[0]\n",
    "stops = set(stopwords.words(\"english\"))\n",
    "words = [w for w in text.lower().split() if not w in stops]\n",
    "final_text = \" \".join(words)"
   ]
  },
  {
   "cell_type": "code",
   "execution_count": 27,
   "metadata": {},
   "outputs": [],
   "source": [
    "# remove special charaters\n",
    "review_text = re.sub(r\"[^A-Za-z0-9(),!.?\\'`]\", \" \", final_text )\n",
    "review_text = re.sub(r\"\\'s\", \" 's \", final_text )\n",
    "review_text = re.sub(r\"\\'ve\", \" 've \", final_text )\n",
    "review_text = re.sub(r\"n\\'t\", \" 't \", final_text )\n",
    "review_text = re.sub(r\"\\'re\", \" 're \", final_text )\n",
    "review_text = re.sub(r\"\\'d\", \" 'd \", final_text )\n",
    "review_text = re.sub(r\"\\'ll\", \" 'll \", final_text )\n",
    "review_text = re.sub(r\",\", \" \", final_text )\n",
    "review_text = re.sub(r\"\\.\", \" \", final_text )\n",
    "review_text = re.sub(r\"!\", \" \", final_text )\n",
    "review_text = re.sub(r\"\\(\", \" ( \", final_text )\n",
    "review_text = re.sub(r\"\\)\", \" ) \", final_text )\n",
    "review_text = re.sub(r\"\\?\", \" \", final_text )\n",
    "review_text = re.sub(r\"\\s{2,}\", \" \", final_text )"
   ]
  },
  {
   "cell_type": "code",
   "execution_count": 48,
   "metadata": {},
   "outputs": [
    {
     "data": {
      "text/plain": [
       "'hong kong--overseas, joshua wong emerged prominent face hong kong\\'s months-long protests full democracy. home, another protester.the 22-year-old activist, rose fame leader democracy protests five years ago, speaks u.s. congressional committee tuesday, following visits germany taiwan drum support movement.while diminishing importance role, protesters say wong speak purposefully leaderless movement. received media coverage, well-known movement largely faceless, since many protesters speak anonymously wear masks try avoid arrest.\"not nobody cares says, joshua wong alone cannot represent whole hong kong,\" said sean au, 17-year-old student. \"he participant, longer leader.\"his activities nonetheless made target chinese government, used accuse foreign powers colluding anti-china separatists foment unrest.wong\\'s activism started age 13 joined protests proposed high-speed rail link hong kong mainland china. link opened last year many delays.the bespectacled teen set student activist group, scholarism, months later rallied 100,000 people protest plan implement mandatory patriotic education schools. government eventually dropped plan.it 2014 umbrella revolution propelled wong global spotlight. protesters occupied major thoroughfares semiautonomous chinese territory 79 days ultimately unsuccessful push direct elections city\\'s leaders.wong co-founded political party, demosisto, 2016, members disqualified serving later even running office advocated self-determination. remains secretary-general organization, describes twitter movement-oriented youth activist group.wong, arrested jailed repeatedly, released june, days million people took streets protest extradition bill widely regarded example china chipping away city\\'s autonomy.he rearrested last month along several others charged organizing illegal rally outside police station june.while wong inspired many, neither well-known individuals groups central role summer\\'s mass movement, said bonnie leung civil human rights front, organized several massive marches summer.leung acknowledged wong\\'s reputation poster child 2014 protest gives stature protest representative global stage, along others hong kong pop star denise ho.\"globally need actions make (the hong kong beijing governments) think twice act,\" said. \"joshua wong well-known face across world help this.\"wong ho among five people due speak hearing u.s. congressional-executive commission china titled \"hong kong\\'s summer discontent u.s. policy responses.\"they hope rally support hong kong human rights democracy act, bill proposing economic sanctions penalties chinese hong kong officials found suppressed democracy city.mousse chan, 45-year-old teacher, said supports wong global tour, though echoed view leader.\"we believe every hong kong citizen responsibility raise awareness cause one them,\" said.wong accused government trying frame prominent activists warning protesters, said doomed fail current unrest centralized figureheads.born 1996 middle-class christian family, wong said passion ignited father started taking poorer areas young child. written book called \"i hero\" featured netflix documentary entitled \"joshua: teenager vs. superpower.\"ahead trip germany month, made headlines berlin suggesting two panda cubs--born pandas rented china berlin zoo--be named \"democracy\" \"freedom\" send clear signal china.he later compared hong kong east germany pro-democracy protests led fall berlin wall. beijing rebuked german foreign minister heiko maas meeting wong, saying disrespected china\\'s sovereignty.wong tweeted sunday human rights clauses included ongoing trade negotiations united states china.\"i see reason us give time world stand hong kong,\" said.'"
      ]
     },
     "execution_count": 48,
     "metadata": {},
     "output_type": "execute_result"
    }
   ],
   "source": [
    "final_text"
   ]
  },
  {
   "cell_type": "code",
   "execution_count": 49,
   "metadata": {},
   "outputs": [
    {
     "data": {
      "text/plain": [
       "\"hong kong--overseas, joshua wong emerged prominent face hong kong's months-long protests full democracy\""
      ]
     },
     "execution_count": 49,
     "metadata": {},
     "output_type": "execute_result"
    }
   ],
   "source": [
    "final_text.split('.')[0]"
   ]
  },
  {
   "cell_type": "code",
   "execution_count": 73,
   "metadata": {},
   "outputs": [],
   "source": [
    "labeled_questions=[]\n",
    "labeled_questions.append(TaggedDocument(final_text.split(),range(len(final_text.split()))))"
   ]
  },
  {
   "cell_type": "code",
   "execution_count": 74,
   "metadata": {},
   "outputs": [],
   "source": [
    "model = Doc2Vec(dm = 1, min_count=1, window=10, size=150, sample=1e-4, negative=10)\n",
    "model.build_vocab(labeled_questions)"
   ]
  },
  {
   "cell_type": "code",
   "execution_count": 75,
   "metadata": {},
   "outputs": [
    {
     "name": "stderr",
     "output_type": "stream",
     "text": [
      "C:\\Users\\wxp\\Anaconda3\\lib\\site-packages\\ipykernel_launcher.py:2: DeprecationWarning: Call to deprecated `iter` (Attribute will be removed in 4.0.0, use self.epochs instead).\n",
      "  \n"
     ]
    },
    {
     "name": "stdout",
     "output_type": "stream",
     "text": [
      "Epoch #1 is complete.\n",
      "Epoch #2 is complete.\n",
      "Epoch #3 is complete.\n",
      "Epoch #4 is complete.\n",
      "Epoch #5 is complete.\n",
      "Epoch #6 is complete.\n",
      "Epoch #7 is complete.\n",
      "Epoch #8 is complete.\n",
      "Epoch #9 is complete.\n",
      "Epoch #10 is complete.\n",
      "Epoch #11 is complete.\n",
      "Epoch #12 is complete.\n",
      "Epoch #13 is complete.\n",
      "Epoch #14 is complete.\n",
      "Epoch #15 is complete.\n",
      "Epoch #16 is complete.\n",
      "Epoch #17 is complete.\n",
      "Epoch #18 is complete.\n",
      "Epoch #19 is complete.\n",
      "Epoch #20 is complete.\n"
     ]
    }
   ],
   "source": [
    "for epoch in range(20):\n",
    "    model.train(labeled_questions,epochs=model.iter,total_examples=model.corpus_count)\n",
    "    print(\"Epoch #{} is complete.\".format(epoch+1))"
   ]
  },
  {
   "cell_type": "code",
   "execution_count": 59,
   "metadata": {},
   "outputs": [
    {
     "name": "stderr",
     "output_type": "stream",
     "text": [
      "C:\\Users\\wxp\\Anaconda3\\lib\\site-packages\\ipykernel_launcher.py:1: DeprecationWarning: Call to deprecated `most_similar` (Method will be removed in 4.0.0, use self.wv.most_similar() instead).\n",
      "  \"\"\"Entry point for launching an IPython kernel.\n"
     ]
    },
    {
     "data": {
      "text/plain": [
       "[('the 22-year-old activist, rose fame leader democracy protests five years ago, speaks u',\n",
       "  0.12463772296905518),\n",
       " (' home, another protester', 0.122573122382164),\n",
       " ('\"wong ho among five people due speak hearing u', 0.11188612878322601),\n",
       " (\" protesters occupied major thoroughfares semiautonomous chinese territory 79 days ultimately unsuccessful push direct elections city's leaders\",\n",
       "  0.1094951182603836),\n",
       " ('wong co-founded political party, demosisto, 2016, members disqualified serving later even running office advocated self-determination',\n",
       "  0.09625684469938278),\n",
       " (\"wong's activism started age 13 joined protests proposed high-speed rail link hong kong mainland china\",\n",
       "  0.08907414227724075),\n",
       " ('he later compared hong kong east germany pro-democracy protests led fall berlin wall',\n",
       "  0.08744935691356659),\n",
       " (' policy responses', 0.08557818830013275),\n",
       " ('\"i see reason us give time world stand hong kong,\" said',\n",
       "  0.08464326709508896),\n",
       " ('while diminishing importance role, protesters say wong speak purposefully leaderless movement',\n",
       "  0.07893267273902893)]"
      ]
     },
     "execution_count": 59,
     "metadata": {},
     "output_type": "execute_result"
    }
   ],
   "source": [
    "model.most_similar('hong kong--overseas, joshua wong emerged prominent face hong kong\\'s months-long protests full democracy')"
   ]
  },
  {
   "cell_type": "code",
   "execution_count": 76,
   "metadata": {},
   "outputs": [],
   "source": [
    "questions_split = final_text.split()"
   ]
  },
  {
   "cell_type": "code",
   "execution_count": 77,
   "metadata": {},
   "outputs": [
    {
     "data": {
      "text/plain": [
       "'joshua'"
      ]
     },
     "execution_count": 77,
     "metadata": {},
     "output_type": "execute_result"
    }
   ],
   "source": [
    "questions_split[2]"
   ]
  },
  {
   "cell_type": "code",
   "execution_count": 79,
   "metadata": {},
   "outputs": [
    {
     "name": "stderr",
     "output_type": "stream",
     "text": [
      "C:\\Users\\wxp\\Anaconda3\\lib\\site-packages\\ipykernel_launcher.py:1: DeprecationWarning: Call to deprecated `most_similar` (Method will be removed in 4.0.0, use self.wv.most_similar() instead).\n",
      "  \"\"\"Entry point for launching an IPython kernel.\n"
     ]
    },
    {
     "data": {
      "text/plain": [
       "[('kong', 0.9944936633110046),\n",
       " ('protest', 0.9938367605209351),\n",
       " ('clear', 0.9934786558151245),\n",
       " ('democracy', 0.9932013750076294),\n",
       " ('schools.', 0.9931670427322388),\n",
       " ('opened', 0.9930024147033691),\n",
       " ('whole', 0.9929667115211487),\n",
       " ('government,', 0.9929406046867371),\n",
       " ('speak', 0.9929075837135315),\n",
       " ('along', 0.9928964376449585)]"
      ]
     },
     "execution_count": 79,
     "metadata": {},
     "output_type": "execute_result"
    }
   ],
   "source": [
    "model.most_similar(questions_split[2])"
   ]
  },
  {
   "cell_type": "code",
   "execution_count": 81,
   "metadata": {},
   "outputs": [
    {
     "data": {
      "text/plain": [
       "array([-0.02381895, -0.07758579, -0.01368993, -0.02099467, -0.02295201,\n",
       "        0.0049884 ,  0.03978407,  0.05120877, -0.00455867,  0.03973684,\n",
       "        0.02516356,  0.01598408,  0.01602839,  0.02399345,  0.01917564,\n",
       "       -0.00877979, -0.02145232,  0.03905983, -0.05370756,  0.03195766,\n",
       "       -0.03669301, -0.032611  , -0.02022472,  0.01322896, -0.02139915,\n",
       "        0.00080295,  0.02365625, -0.048961  ,  0.01010074, -0.0088423 ,\n",
       "        0.03939902,  0.03341983, -0.04525749, -0.03837388, -0.01021375,\n",
       "        0.02937328,  0.00797123,  0.02947779,  0.01149655,  0.02044325,\n",
       "        0.01130801,  0.02682213,  0.00159786, -0.0104731 ,  0.01330418,\n",
       "        0.03473864, -0.00685804,  0.01237351,  0.02863524,  0.00429843,\n",
       "        0.00048975, -0.03173163,  0.05038798,  0.01045189,  0.04773301,\n",
       "        0.00185695, -0.03136143,  0.02745213, -0.01501341,  0.00090314,\n",
       "       -0.01514976,  0.01275675, -0.00581999, -0.01831162, -0.00993098,\n",
       "        0.00386462,  0.01478254, -0.01900079,  0.02507095, -0.01152706,\n",
       "        0.02803203, -0.02226894, -0.03504602,  0.0129538 , -0.0204829 ,\n",
       "       -0.01076699,  0.03101461,  0.00059989,  0.00589084, -0.00109626,\n",
       "       -0.02567652, -0.02765183,  0.00564618, -0.00227554,  0.01454815,\n",
       "       -0.01400936, -0.04697214, -0.01306192,  0.03936961,  0.01949782,\n",
       "       -0.01212933,  0.03718002, -0.01024463,  0.02042945, -0.01891875,\n",
       "        0.02130637, -0.00108788,  0.00589726, -0.02128591,  0.01011549,\n",
       "        0.03442845,  0.00317709, -0.06857466, -0.02801605,  0.0274612 ,\n",
       "       -0.00173796,  0.0095977 , -0.05761566, -0.03185438, -0.01179468,\n",
       "       -0.00772585,  0.00020419, -0.03586763, -0.00307205, -0.03093292,\n",
       "        0.03468835,  0.01996853, -0.00985018, -0.01977531,  0.00837198,\n",
       "       -0.02559406,  0.05076815, -0.00392341,  0.0052777 ,  0.02073315,\n",
       "        0.01522734,  0.01172606,  0.02083503,  0.00265688,  0.02101892,\n",
       "       -0.03804336,  0.02373325,  0.05640676, -0.04757409,  0.01769884,\n",
       "       -0.05345891,  0.01328255, -0.02641854, -0.00128931, -0.03322526,\n",
       "        0.02739314, -0.00860479, -0.0248747 , -0.03984994, -0.01761386,\n",
       "       -0.05146494,  0.06452358,  0.04849146, -0.00286007, -0.01338672],\n",
       "      dtype=float32)"
      ]
     },
     "execution_count": 81,
     "metadata": {},
     "output_type": "execute_result"
    }
   ],
   "source": [
    "model.infer_vector('the 22-year-old activist, rose fame leader democracy protests five years ago, speaks u'.split())"
   ]
  },
  {
   "cell_type": "code",
   "execution_count": null,
   "metadata": {},
   "outputs": [],
   "source": []
  }
 ],
 "metadata": {
  "kernelspec": {
   "display_name": "Python 3",
   "language": "python",
   "name": "python3"
  },
  "language_info": {
   "codemirror_mode": {
    "name": "ipython",
    "version": 3
   },
   "file_extension": ".py",
   "mimetype": "text/x-python",
   "name": "python",
   "nbconvert_exporter": "python",
   "pygments_lexer": "ipython3",
   "version": "3.7.3"
  }
 },
 "nbformat": 4,
 "nbformat_minor": 2
}
